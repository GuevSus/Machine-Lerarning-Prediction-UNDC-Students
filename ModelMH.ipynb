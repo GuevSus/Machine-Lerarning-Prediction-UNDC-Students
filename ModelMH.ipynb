{
  "nbformat": 4,
  "nbformat_minor": 0,
  "metadata": {
    "colab": {
      "provenance": []
    },
    "kernelspec": {
      "name": "python3",
      "display_name": "Python 3"
    },
    "language_info": {
      "name": "python"
    }
  },
  "cells": [
    {
      "cell_type": "markdown",
      "source": [
        "# **Entender el negocio**"
      ],
      "metadata": {
        "id": "HzG-SbazXORS"
      }
    },
    {
      "cell_type": "markdown",
      "source": [
        "Mejorar la comprensión de los factores que influyen en la salud mental de los estudiantes y predecir quiénes podrían necesitar atención."
      ],
      "metadata": {
        "id": "IbFZnZA7XaTY"
      }
    },
    {
      "cell_type": "markdown",
      "source": [
        "Crear un modelo que pueda predecir la necesidad de tratamiento de salud mental basado en las respuestas de una encuesta."
      ],
      "metadata": {
        "id": "lkYyNCtfXdp5"
      }
    },
    {
      "cell_type": "markdown",
      "source": [
        "# **Entender la data**"
      ],
      "metadata": {
        "id": "Ym6UfRmwXbNx"
      }
    },
    {
      "cell_type": "markdown",
      "source": [
        "1. Cargar y explorar los datos:"
      ],
      "metadata": {
        "id": "uv8x7skKXl6j"
      }
    },
    {
      "cell_type": "code",
      "execution_count": null,
      "metadata": {
        "colab": {
          "base_uri": "https://localhost:8080/"
        },
        "id": "pKiC1wkQXE58",
        "outputId": "dad418b1-f5e3-4644-bb35-ca035aabcbda"
      },
      "outputs": [
        {
          "output_type": "stream",
          "name": "stdout",
          "text": [
            "   Age  Gender         City                   carrer family_history treatment  \\\n",
            "0   24    Male     Agronomy               Accounting            Yes       Yes   \n",
            "1   25    Male     Agronomy               Management            Yes       Yes   \n",
            "2   22  Female     Imperial      Systems engineering             No        No   \n",
            "3   23  Female  San Vicente  Hospitality and tourism             No       Yes   \n",
            "4   25  Female     Imperial      Systems engineering             No        No   \n",
            "\n",
            "  work_interfere no_employees remote_work tech_company  ...  \\\n",
            "0      Sometimes           57          No          Yes  ...   \n",
            "1            Yes           58   Sometimes           No  ...   \n",
            "2            Yes          132      Always          Yes  ...   \n",
            "3         Always           58         Yes           No  ...   \n",
            "4             No          1-5       Never          Yes  ...   \n",
            "\n",
            "  physical_health_consequence coworkers supervisor mental_health_interview  \\\n",
            "0                         Yes        No         No                      No   \n",
            "1                         Yes       Yes         No                      No   \n",
            "2                          No       Yes        Yes                      No   \n",
            "3                         Yes       Yes         No                      No   \n",
            "4                         Yes       Yes         No                     Yes   \n",
            "\n",
            "  physical_health_interview mental_vs_physical obs_consequence  Year Month Day  \n",
            "0                        No                 No              No  2024     6   8  \n",
            "1                        No                 No              No  2024     6   8  \n",
            "2                        No                All             Yes  2024     6   8  \n",
            "3                       All                Yes             Yes  2024     6   8  \n",
            "4                        No                 No              No  2024     6   8  \n",
            "\n",
            "[5 rows x 26 columns]\n",
            "<class 'pandas.core.frame.DataFrame'>\n",
            "RangeIndex: 30 entries, 0 to 29\n",
            "Data columns (total 26 columns):\n",
            " #   Column                       Non-Null Count  Dtype \n",
            "---  ------                       --------------  ----- \n",
            " 0   Age                          30 non-null     int64 \n",
            " 1   Gender                       30 non-null     object\n",
            " 2   City                         30 non-null     object\n",
            " 3   carrer                       30 non-null     object\n",
            " 4   family_history               30 non-null     object\n",
            " 5   treatment                    30 non-null     object\n",
            " 6   work_interfere               30 non-null     object\n",
            " 7   no_employees                 30 non-null     object\n",
            " 8   remote_work                  30 non-null     object\n",
            " 9   tech_company                 30 non-null     object\n",
            " 10  benefits                     30 non-null     object\n",
            " 11  care_options                 30 non-null     object\n",
            " 12  wellness_program             30 non-null     object\n",
            " 13  seek_help                    30 non-null     object\n",
            " 14  anonymity                    30 non-null     object\n",
            " 15  mental_health_consequence    30 non-null     object\n",
            " 16  physical_health_consequence  30 non-null     object\n",
            " 17  coworkers                    30 non-null     object\n",
            " 18  supervisor                   30 non-null     object\n",
            " 19  mental_health_interview      30 non-null     object\n",
            " 20  physical_health_interview    30 non-null     object\n",
            " 21  mental_vs_physical           30 non-null     object\n",
            " 22  obs_consequence              30 non-null     object\n",
            " 23  Year                         30 non-null     int32 \n",
            " 24  Month                        30 non-null     int32 \n",
            " 25  Day                          30 non-null     int32 \n",
            "dtypes: int32(3), int64(1), object(22)\n",
            "memory usage: 5.9+ KB\n",
            "             Age    Year  Month   Day\n",
            "count  30.000000    30.0   30.0  30.0\n",
            "mean   22.733333  2024.0    6.0   8.0\n",
            "std     2.572177     0.0    0.0   0.0\n",
            "min    17.000000  2024.0    6.0   8.0\n",
            "25%    21.000000  2024.0    6.0   8.0\n",
            "50%    22.500000  2024.0    6.0   8.0\n",
            "75%    25.000000  2024.0    6.0   8.0\n",
            "max    28.000000  2024.0    6.0   8.0\n"
          ]
        }
      ],
      "source": [
        "import pandas as pd\n",
        "from sklearn.preprocessing import LabelEncoder\n",
        "from sklearn.model_selection import train_test_split\n",
        "from sklearn.ensemble import RandomForestClassifier\n",
        "from sklearn.metrics import accuracy_score, classification_report\n",
        "\n",
        "# Cargar el archivo CSV\n",
        "df = pd.read_csv('encuesta.csv')\n",
        "\n",
        "# Limpiar los nombres de las columnas\n",
        "df.columns = df.columns.str.strip()\n",
        "\n",
        "# Convertir la columna 'Timestamp' a tipo de dato de fecha\n",
        "df['Timestamp'] = pd.to_datetime(df['Timestamp'], format='%d/%m/%Y')\n",
        "\n",
        "# Extraer características de la fecha (opcional)\n",
        "df['Year'] = df['Timestamp'].dt.year\n",
        "df['Month'] = df['Timestamp'].dt.month\n",
        "df['Day'] = df['Timestamp'].dt.day\n",
        "\n",
        "# Eliminar la columna 'Timestamp' si no es relevante para el modelado\n",
        "df = df.drop(columns=['Timestamp'])\n",
        "\n",
        "# Eliminar la columna 'comments' si no es relevante para el modelado\n",
        "df = df.drop(columns=['comments'])\n",
        "\n",
        "# Ver las primeras filas del DataFrame\n",
        "print(df.head())\n",
        "\n",
        "# Obtener información general del DataFrame\n",
        "df.info()\n",
        "\n",
        "# Resumen estadístico\n",
        "print(df.describe())"
      ]
    },
    {
      "cell_type": "markdown",
      "source": [
        "# **Entender las variables**"
      ],
      "metadata": {
        "id": "LGLxay-2XuYA"
      }
    },
    {
      "cell_type": "markdown",
      "source": [
        "Variables demográficas: Age, Gender, City, carrer /\n",
        "Historial familiar: family_history /\n",
        "Tratamiento previo: treatment /\n",
        "Interferencia laboral: work_interfere /\n",
        "Tamaño de la empresa: no_employees /\n",
        "Trabajo remoto: remote_work /\n",
        "Industria: tech_company /\n",
        "Beneficios y opciones de cuidado: benefits, care_options/\n",
        "Programas de bienestar: wellness_program /\n",
        "Anonimato y permisos: seek_help, anonymity\n",
        "Consecuencias para la salud mental y física: mental_health_consequence, physical_health_consequence /\n",
        "Interacción con compañeros y supervisores: coworkers, supervisor /\n",
        "Entrevistas de salud: mental_health_interview, physical_health_interview /\n",
        "Otros: mental_vs_physical, obs_consequence, comments"
      ],
      "metadata": {
        "id": "q4RmooIOXy4-"
      }
    },
    {
      "cell_type": "markdown",
      "source": [
        "# **Preparar la data**"
      ],
      "metadata": {
        "id": "9W9EPB3WYDjK"
      }
    },
    {
      "cell_type": "markdown",
      "source": [
        "1. Manejo de valores faltantes:\n"
      ],
      "metadata": {
        "id": "ZKEZ_iFFYF_l"
      }
    },
    {
      "cell_type": "code",
      "source": [
        "# Verificar valores faltantes\n",
        "df.isnull().sum()"
      ],
      "metadata": {
        "colab": {
          "base_uri": "https://localhost:8080/"
        },
        "id": "B0VnArsKYC5x",
        "outputId": "fc333250-9017-4fd6-9f6c-155e1c1f1e65"
      },
      "execution_count": null,
      "outputs": [
        {
          "output_type": "execute_result",
          "data": {
            "text/plain": [
              "Age                            0\n",
              "Gender                         0\n",
              "City                           0\n",
              "carrer                         0\n",
              "family_history                 0\n",
              "treatment                      0\n",
              "work_interfere                 0\n",
              "no_employees                   0\n",
              "remote_work                    0\n",
              "tech_company                   0\n",
              "benefits                       0\n",
              "care_options                   0\n",
              "wellness_program               0\n",
              "seek_help                      0\n",
              "anonymity                      0\n",
              "mental_health_consequence      0\n",
              "physical_health_consequence    0\n",
              "coworkers                      0\n",
              "supervisor                     0\n",
              "mental_health_interview        0\n",
              "physical_health_interview      0\n",
              "mental_vs_physical             0\n",
              "obs_consequence                0\n",
              "Year                           0\n",
              "Month                          0\n",
              "Day                            0\n",
              "dtype: int64"
            ]
          },
          "metadata": {},
          "execution_count": 12
        }
      ]
    },
    {
      "cell_type": "markdown",
      "source": [
        "2. Codificación de variables categóricas"
      ],
      "metadata": {
        "id": "Zx9WJVmtYSku"
      }
    },
    {
      "cell_type": "code",
      "source": [
        "from sklearn.preprocessing import LabelEncoder\n",
        "\n",
        "# Codificar las variables categóricas\n",
        "categorical_columns = ['Gender', 'City', 'carrer', 'family_history', 'treatment', 'work_interfere',\n",
        "                       'remote_work', 'tech_company', 'benefits', 'care_options', 'wellness_program',\n",
        "                       'seek_help', 'anonymity', 'mental_health_consequence', 'physical_health_consequence',\n",
        "                       'coworkers', 'supervisor', 'mental_health_interview', 'physical_health_interview',\n",
        "                       'mental_vs_physical', 'obs_consequence']\n",
        "labelencoder = LabelEncoder()\n",
        "for column in categorical_columns:\n",
        "    if column in df.columns:\n",
        "        df[column] = labelencoder.fit_transform(df[column])\n",
        "    else:\n",
        "        print(f\"Column '{column}' not found in the DataFrame\")\n",
        "\n",
        "# Convertir la columna 'no_employees' a valores numéricos\n",
        "employee_mapping = {\n",
        "    '1-5': 3,\n",
        "    '6-25': 15,\n",
        "    '10-15': 13,\n",
        "    '15-25': 20,\n",
        "    '26-100': 63,\n",
        "    '70-100': 85,\n",
        "    '80-100': 90,\n",
        "    '150-200': 175,\n",
        "    '': 0,\n",
        "}\n",
        "df['no_employees'] = df['no_employees'].replace(employee_mapping).astype(int)\n",
        "\n",
        "# Verificar las primeras filas del DataFrame para confirmar las transformaciones\n",
        "print(df.head())"
      ],
      "metadata": {
        "colab": {
          "base_uri": "https://localhost:8080/"
        },
        "id": "SBviUUXYXtTN",
        "outputId": "d0e0267a-d875-4b2f-8ead-1bbfde080405"
      },
      "execution_count": null,
      "outputs": [
        {
          "output_type": "stream",
          "name": "stdout",
          "text": [
            "   Age  Gender  City  carrer  family_history  treatment  work_interfere  \\\n",
            "0   24       1     0       2               1          1               2   \n",
            "1   25       1     0       6               1          1               3   \n",
            "2   22       0     5       7               0          0               3   \n",
            "3   23       0     8       4               0          1               0   \n",
            "4   25       0     5       7               0          0               1   \n",
            "\n",
            "   no_employees  remote_work  tech_company  ...  physical_health_consequence  \\\n",
            "0            57            3             1  ...                            1   \n",
            "1            58            4             0  ...                            1   \n",
            "2           132            2             1  ...                            0   \n",
            "3            58            5             0  ...                            1   \n",
            "4             3            0             1  ...                            1   \n",
            "\n",
            "   coworkers  supervisor  mental_health_interview  physical_health_interview  \\\n",
            "0          0           0                        0                          1   \n",
            "1          1           0                        0                          1   \n",
            "2          1           1                        0                          1   \n",
            "3          1           0                        0                          0   \n",
            "4          1           0                        1                          1   \n",
            "\n",
            "   mental_vs_physical  obs_consequence  Year  Month  Day  \n",
            "0                   1                0  2024      6    8  \n",
            "1                   1                0  2024      6    8  \n",
            "2                   0                1  2024      6    8  \n",
            "3                   2                1  2024      6    8  \n",
            "4                   1                0  2024      6    8  \n",
            "\n",
            "[5 rows x 26 columns]\n"
          ]
        }
      ]
    },
    {
      "cell_type": "markdown",
      "source": [
        "# **Modelado**\n"
      ],
      "metadata": {
        "id": "yIYMApjEhsWo"
      }
    },
    {
      "cell_type": "markdown",
      "source": [
        "Seleccionar un modelo de machine learning adecuado (p. ej., clasificación binaria para predecir la necesidad de tratamiento de salud mental).\n",
        "Dividir los datos en conjuntos de entrenamiento y prueba."
      ],
      "metadata": {
        "id": "JjZfSPqThwIA"
      }
    },
    {
      "cell_type": "code",
      "source": [
        "# Definir las características (features) y la variable objetivo (target)\n",
        "X = df.drop(columns=['treatment'])  # Asumiendo que 'treatment' es la variable objetivo\n",
        "y = df['treatment']\n",
        "\n",
        "# Dividir los datos en conjuntos de entrenamiento y prueba\n",
        "X_train, X_test, y_train, y_test = train_test_split(X, y, test_size=0.2, random_state=42)"
      ],
      "metadata": {
        "id": "O2OOiUskhvpZ"
      },
      "execution_count": null,
      "outputs": []
    },
    {
      "cell_type": "markdown",
      "source": [
        "# **Entrenamiento y validación**"
      ],
      "metadata": {
        "id": "5CvK_BffiDB_"
      }
    },
    {
      "cell_type": "code",
      "source": [
        "# Entrenar el modelo\n",
        "model = RandomForestClassifier(random_state=42)\n",
        "model.fit(X_train, y_train)\n",
        "\n",
        "# Validar el modelo\n",
        "y_pred = model.predict(X_test)\n",
        "\n",
        "# Evaluar el desempeño del modelo\n",
        "print(f\"Accuracy: {accuracy_score(y_test, y_pred)}\")\n",
        "print(classification_report(y_test, y_pred))"
      ],
      "metadata": {
        "colab": {
          "base_uri": "https://localhost:8080/"
        },
        "id": "w0euam92iEQP",
        "outputId": "45842d41-6e9e-40b2-9f38-095232bef730"
      },
      "execution_count": null,
      "outputs": [
        {
          "output_type": "stream",
          "name": "stdout",
          "text": [
            "Accuracy: 0.8333333333333334\n",
            "              precision    recall  f1-score   support\n",
            "\n",
            "           0       0.50      1.00      0.67         1\n",
            "           1       1.00      0.80      0.89         5\n",
            "\n",
            "    accuracy                           0.83         6\n",
            "   macro avg       0.75      0.90      0.78         6\n",
            "weighted avg       0.92      0.83      0.85         6\n",
            "\n"
          ]
        }
      ]
    },
    {
      "cell_type": "markdown",
      "source": [
        "Matriz de confusión"
      ],
      "metadata": {
        "id": "1VAABu2jM2Qv"
      }
    },
    {
      "cell_type": "code",
      "source": [
        "from sklearn.metrics import confusion_matrix, ConfusionMatrixDisplay\n",
        "import matplotlib.pyplot as plt # Import the matplotlib library\n",
        "\n",
        "\n",
        "cm = confusion_matrix(y_test, y_pred, labels=model.classes_)\n",
        "\n",
        "# Generar la matriz de confusión\n",
        "cm = confusion_matrix(y_test, y_pred, labels=model.classes_)\n",
        "\n",
        "# Mostrar la matriz de confusión\n",
        "disp = ConfusionMatrixDisplay(confusion_matrix=cm, display_labels=model.classes_)\n",
        "disp.plot(cmap='magma', values_format='d')\n",
        "plt.show() # Now plt is defined and can be used"
      ],
      "metadata": {
        "colab": {
          "base_uri": "https://localhost:8080/",
          "height": 455
        },
        "id": "a37Z1W_rlhAr",
        "outputId": "b417efc8-58a4-4f69-805b-9edb5e967192"
      },
      "execution_count": null,
      "outputs": [
        {
          "output_type": "display_data",
          "data": {
            "text/plain": [
              "<Figure size 640x480 with 2 Axes>"
            ],
            "image/png": "[encoded data removed]"
          },
          "metadata": {}
        }
      ]
    },
    {
      "cell_type": "markdown",
      "source": [
        "Curva ROC y AUC"
      ],
      "metadata": {
        "id": "QGWnsYSSM0Nx"
      }
    },
    {
      "cell_type": "code",
      "source": [
        "from sklearn.metrics import roc_curve, roc_auc_score\n",
        "import matplotlib.pyplot as plt\n",
        "\n",
        "y_prob = model.predict_proba(X_test)[:, 1]  # Probabilidades de la clase positiva\n",
        "fpr, tpr, _ = roc_curve(y_test, y_prob)\n",
        "auc = roc_auc_score(y_test, y_prob)\n",
        "\n",
        "plt.plot(fpr, tpr, label=f'ROC Curve (AUC = {auc:.2f})')\n",
        "plt.xlabel('False Positive Rate')\n",
        "plt.ylabel('True Positive Rate')\n",
        "plt.title('ROC Curve')\n",
        "plt.legend()\n",
        "plt.show()"
      ],
      "metadata": {
        "id": "Si8jFWjTlnL9",
        "colab": {
          "base_uri": "https://localhost:8080/",
          "height": 472
        },
        "outputId": "f58397b4-b94d-415e-c520-a9316649249f"
      },
      "execution_count": null,
      "outputs": [
        {
          "output_type": "display_data",
          "data": {
            "text/plain": [
              "<Figure size 640x480 with 1 Axes>"
            ],
            "image/png": "[encoded data removed]"
          },
          "metadata": {}
        }
      ]
    },
    {
      "cell_type": "code",
      "source": [
        "from sklearn.metrics import f1_score\n",
        "\n",
        "f1 = f1_score(y_test, y_pred, average='weighted')\n",
        "print(f'F1 Score (weighted): {f1}')"
      ],
      "metadata": {
        "colab": {
          "base_uri": "https://localhost:8080/"
        },
        "id": "y7jYXmPoOkJs",
        "outputId": "5ddf59af-fef1-4541-d11a-e846d89bf72e"
      },
      "execution_count": null,
      "outputs": [
        {
          "output_type": "stream",
          "name": "stdout",
          "text": [
            "F1 Score (weighted): 0.851851851851852\n"
          ]
        }
      ]
    },
    {
      "cell_type": "markdown",
      "source": [
        "Ajuste de Hiperparámetros"
      ],
      "metadata": {
        "id": "6MgxgdCrPIHg"
      }
    },
    {
      "cell_type": "code",
      "source": [
        "from sklearn.model_selection import GridSearchCV\n",
        "\n",
        "param_grid = {\n",
        "    'n_estimators': [50, 100, 200],\n",
        "    'max_depth': [None, 10, 20, 30],\n",
        "    'min_samples_split': [2, 5, 10]\n",
        "}\n",
        "\n",
        "grid_search = GridSearchCV(estimator=model, param_grid=param_grid, cv=3, n_jobs=-1, verbose=2)\n",
        "grid_search.fit(X_train, y_train)\n",
        "\n",
        "print(f'Best parameters: {grid_search.best_params_}')\n",
        "best_model = grid_search.best_estimator_\n",
        "\n",
        "# Evaluar el modelo con los mejores parámetros\n",
        "y_pred = best_model.predict(X_test)\n",
        "print(f\"Accuracy with best parameters: {accuracy_score(y_test, y_pred)}\")\n",
        "print(classification_report(y_test, y_pred))\n",
        "print(confusion_matrix(y_test, y_pred))\n"
      ],
      "metadata": {
        "colab": {
          "base_uri": "https://localhost:8080/"
        },
        "id": "qatqO8GmOq-G",
        "outputId": "5ba6a3fc-2002-400d-d920-d41a9633b2a9"
      },
      "execution_count": null,
      "outputs": [
        {
          "output_type": "stream",
          "name": "stdout",
          "text": [
            "Fitting 3 folds for each of 36 candidates, totalling 108 fits\n",
            "Best parameters: {'max_depth': None, 'min_samples_split': 10, 'n_estimators': 50}\n",
            "Accuracy with best parameters: 0.8333333333333334\n",
            "              precision    recall  f1-score   support\n",
            "\n",
            "           0       0.50      1.00      0.67         1\n",
            "           1       1.00      0.80      0.89         5\n",
            "\n",
            "    accuracy                           0.83         6\n",
            "   macro avg       0.75      0.90      0.78         6\n",
            "weighted avg       0.92      0.83      0.85         6\n",
            "\n",
            "[[1 0]\n",
            " [1 4]]\n"
          ]
        }
      ]
    }
  ]
}